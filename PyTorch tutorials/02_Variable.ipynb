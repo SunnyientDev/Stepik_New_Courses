{
  "nbformat": 4,
  "nbformat_minor": 0,
  "metadata": {
    "colab": {
      "name": "02_Variable.ipynb",
      "provenance": []
    },
    "kernelspec": {
      "name": "python3",
      "display_name": "Python 3"
    }
  },
  "cells": [
    {
      "cell_type": "markdown",
      "metadata": {
        "id": "smeueugqn3C7"
      },
      "source": [
        "AUTOMATIC DIFFERENTIATION PACKAGE\n",
        "\n",
        "torch.autograd provides classes and functions implementing automatic differentiation of arbitrary scalar valued functions. It requires minimal changes to the existing code - you only need to declare Tensor s for which gradients should be computed with the requires_grad=True keyword. As of now, we only support autograd for floating point Tensor types ( half, float, double and bfloat16) and complex Tensor types (cfloat, cdouble)."
      ]
    },
    {
      "cell_type": "code",
      "metadata": {
        "id": "RCJfzm6snZmg"
      },
      "source": [
        "from torch.autograd import Variable\n",
        "import torch\n",
        "\n",
        "tensor = torch.FloatTensor([[1,2],[3,4]])\n",
        "#create a variable to compute gradients\n",
        "variable = Variable(tensor, requires_grad = True) "
      ],
      "execution_count": 21,
      "outputs": []
    },
    {
      "cell_type": "code",
      "metadata": {
        "colab": {
          "base_uri": "https://localhost:8080/"
        },
        "id": "tx-RWP8Un4iq",
        "outputId": "610619cb-f865-420b-b4d3-017d4ba8670b"
      },
      "source": [
        "tensor"
      ],
      "execution_count": 22,
      "outputs": [
        {
          "output_type": "execute_result",
          "data": {
            "text/plain": [
              "tensor([[1., 2.],\n",
              "        [3., 4.]])"
            ]
          },
          "metadata": {
            "tags": []
          },
          "execution_count": 22
        }
      ]
    },
    {
      "cell_type": "code",
      "metadata": {
        "colab": {
          "base_uri": "https://localhost:8080/"
        },
        "id": "hCFc5RsfpIN0",
        "outputId": "e3e71cdc-388a-459a-f383-ed926fe2ee40"
      },
      "source": [
        "variable"
      ],
      "execution_count": 23,
      "outputs": [
        {
          "output_type": "execute_result",
          "data": {
            "text/plain": [
              "tensor([[1., 2.],\n",
              "        [3., 4.]], requires_grad=True)"
            ]
          },
          "metadata": {
            "tags": []
          },
          "execution_count": 23
        }
      ]
    },
    {
      "cell_type": "markdown",
      "metadata": {
        "id": "JDGPWdw3sFyw"
      },
      "source": [
        "Returns the mean value of all elements in the input tensor.\n",
        "\n"
      ]
    },
    {
      "cell_type": "code",
      "metadata": {
        "colab": {
          "base_uri": "https://localhost:8080/"
        },
        "id": "vEk9gstwpJL8",
        "outputId": "205bf960-d064-4ef2-c762-aaf1766fbd70"
      },
      "source": [
        "t_out = torch.mean(tensor*tensor)\n",
        "print(t_out)"
      ],
      "execution_count": 26,
      "outputs": [
        {
          "output_type": "stream",
          "text": [
            "tensor(7.5000)\n"
          ],
          "name": "stdout"
        }
      ]
    },
    {
      "cell_type": "code",
      "metadata": {
        "colab": {
          "base_uri": "https://localhost:8080/"
        },
        "id": "j2rZfP-uryUq",
        "outputId": "038e6f2b-7017-42c6-bc55-c8064cb50446"
      },
      "source": [
        "v_out = torch.mean(variable*variable)\n",
        "print(v_out)"
      ],
      "execution_count": 27,
      "outputs": [
        {
          "output_type": "stream",
          "text": [
            "tensor(7.5000, grad_fn=<MeanBackward0>)\n"
          ],
          "name": "stdout"
        }
      ]
    }
  ]
}