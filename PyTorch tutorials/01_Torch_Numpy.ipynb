{
  "nbformat": 4,
  "nbformat_minor": 0,
  "metadata": {
    "colab": {
      "name": "01_Torch_Numpy.ipynb",
      "provenance": []
    },
    "kernelspec": {
      "name": "python3",
      "display_name": "Python 3"
    }
  },
  "cells": [
    {
      "cell_type": "markdown",
      "metadata": {
        "id": "xl0g2ELShTID"
      },
      "source": [
        "Arrays and tensors"
      ]
    },
    {
      "cell_type": "code",
      "metadata": {
        "id": "1e0Xojitfr5K"
      },
      "source": [
        "import numpy as np\n",
        "import torch\n",
        "\n",
        "data_np = np.arange(6).reshape((2,3))\n",
        "data_torch = torch.from_numpy(data_np)"
      ],
      "execution_count": 11,
      "outputs": []
    },
    {
      "cell_type": "code",
      "metadata": {
        "colab": {
          "base_uri": "https://localhost:8080/"
        },
        "id": "4v1Bv2Rygm5s",
        "outputId": "e2da3494-7dc2-4ea8-d222-55a3eae8f15e"
      },
      "source": [
        "data_np"
      ],
      "execution_count": 12,
      "outputs": [
        {
          "output_type": "execute_result",
          "data": {
            "text/plain": [
              "array([[0, 1, 2],\n",
              "       [3, 4, 5]])"
            ]
          },
          "metadata": {
            "tags": []
          },
          "execution_count": 12
        }
      ]
    },
    {
      "cell_type": "code",
      "metadata": {
        "colab": {
          "base_uri": "https://localhost:8080/"
        },
        "id": "hf-I2uPhg44Q",
        "outputId": "651f48ab-b08e-4f4b-cc71-8dd94062d46a"
      },
      "source": [
        "data_torch"
      ],
      "execution_count": 13,
      "outputs": [
        {
          "output_type": "execute_result",
          "data": {
            "text/plain": [
              "tensor([[0, 1, 2],\n",
              "        [3, 4, 5]])"
            ]
          },
          "metadata": {
            "tags": []
          },
          "execution_count": 13
        }
      ]
    },
    {
      "cell_type": "code",
      "metadata": {
        "colab": {
          "base_uri": "https://localhost:8080/"
        },
        "id": "lL8E4LFLg6Aq",
        "outputId": "358ac082-2b4f-48db-ef35-e036028dc301"
      },
      "source": [
        "tensor_to_array = data_torch.numpy()\n",
        "print(tensor_to_array)"
      ],
      "execution_count": 14,
      "outputs": [
        {
          "output_type": "stream",
          "text": [
            "[[0 1 2]\n",
            " [3 4 5]]\n"
          ],
          "name": "stdout"
        }
      ]
    },
    {
      "cell_type": "markdown",
      "metadata": {
        "id": "ZlVAJx-CheEH"
      },
      "source": [
        "Module function"
      ]
    },
    {
      "cell_type": "code",
      "metadata": {
        "colab": {
          "base_uri": "https://localhost:8080/"
        },
        "id": "IwoBHggfhHBZ",
        "outputId": "fda625c6-9947-47ed-8a41-c70665b14759"
      },
      "source": [
        "data = [-1, -2, 1, 2]\n",
        "tensor = torch.FloatTensor(data)\n",
        "\n",
        "print(\n",
        "    'Abs: ',\n",
        "    '\\n|numpy|: ', np.abs(data),\n",
        "    '\\n|torch|: ', torch.abs(tensor)\n",
        ")"
      ],
      "execution_count": 16,
      "outputs": [
        {
          "output_type": "stream",
          "text": [
            "Abs:  \n",
            "|numpy|:  [1 2 1 2] \n",
            "|torch|:  tensor([1., 2., 1., 2.])\n"
          ],
          "name": "stdout"
        }
      ]
    },
    {
      "cell_type": "markdown",
      "metadata": {
        "id": "6czO2Q4bj9Qa"
      },
      "source": [
        "Matrix multiplication"
      ]
    },
    {
      "cell_type": "code",
      "metadata": {
        "colab": {
          "base_uri": "https://localhost:8080/"
        },
        "id": "xD2vYQj4jurN",
        "outputId": "409fe944-f06d-4792-d2b0-66055637a6a7"
      },
      "source": [
        "matrix1 = [[1,2],[3,4]]\n",
        "matrix2 = torch.FloatTensor(matrix1)\n",
        "\n",
        "print(\n",
        "    'Matrix multiplication: ',\n",
        "    '\\nin numpy: ', np.matmul(matrix1, matrix1),\n",
        "    '\\nin torch: ', torch.mm(matrix2, matrix2)\n",
        ")"
      ],
      "execution_count": 18,
      "outputs": [
        {
          "output_type": "stream",
          "text": [
            "Matrix multiplication:  \n",
            "in numpy:  [[ 7 10]\n",
            " [15 22]] \n",
            "in torch:  tensor([[ 7., 10.],\n",
            "        [15., 22.]])\n"
          ],
          "name": "stdout"
        }
      ]
    }
  ]
}