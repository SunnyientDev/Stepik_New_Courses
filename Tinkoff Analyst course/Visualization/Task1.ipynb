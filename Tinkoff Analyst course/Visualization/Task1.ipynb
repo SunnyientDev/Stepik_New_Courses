{
  "nbformat": 4,
  "nbformat_minor": 0,
  "metadata": {
    "colab": {
      "name": "Task1.ipynb",
      "provenance": []
    },
    "kernelspec": {
      "name": "python3",
      "display_name": "Python 3"
    },
    "language_info": {
      "name": "python"
    }
  },
  "cells": [
    {
      "cell_type": "markdown",
      "metadata": {
        "id": "UbPfn11hFUqT"
      },
      "source": [
        "# Визуализация данных\n",
        "\n",
        "Поговорим о проекте Тинькофф Квест.\n",
        "Рассматриваем следующий процесс: заявители регистрируются на сайте Тинькофф Квест, где указывают свой возраст. Всех зарегистрированных называем клиентами.\n",
        "\n",
        "В дальнейшем кто-то из них совершает с созданного аккаунта покупки сертификатов на квест. Будем называть это утилизацией. Число дней от регистрации на сайте до первой покупки будем называть скоростью утилизации.\n",
        "\n",
        "В приложенном файле таблица со следующими полями:\n",
        "\n",
        "* client_id -- id клиента, зарегистрированного на сайте\n",
        "* birth_dt -- дата его рождения\n",
        "* reg_dttm -- дата и время регистрации на сайте данного клиента\n",
        "* purchase_id -- id покупки\n",
        "* purchase_dt -- дата покупки\n",
        "* purchase_amt -- сумма покупки\n",
        "\n",
        "Если данные по покупке пустые -- клиент не совершил утилизации."
      ]
    },
    {
      "cell_type": "markdown",
      "metadata": {
        "id": "YP9KweSEFqoK"
      },
      "source": [
        "## Задание 1\n",
        "\n",
        "Постройте диаграмму (или график), которая показывает, как менялось множество клиентов по возрасту с течением времени."
      ]
    },
    {
      "cell_type": "code",
      "metadata": {
        "colab": {
          "base_uri": "https://localhost:8080/"
        },
        "id": "VxQ_YmlIFSfu",
        "outputId": "68aa4b0f-1ac9-481a-c841-5ceb0098b370"
      },
      "source": [
        "!wget https://edu.tinkoff.ru/media/edu-files-ext-100/40efea85-f221-4233-b218-87ae35423650.xls"
      ],
      "execution_count": 3,
      "outputs": [
        {
          "output_type": "stream",
          "text": [
            "--2021-03-28 17:02:36--  https://edu.tinkoff.ru/media/edu-files-ext-100/40efea85-f221-4233-b218-87ae35423650.xls\n",
            "Resolving edu.tinkoff.ru (edu.tinkoff.ru)... 178.248.239.60\n",
            "Connecting to edu.tinkoff.ru (edu.tinkoff.ru)|178.248.239.60|:443... connected.\n",
            "HTTP request sent, awaiting response... 200 OK\n",
            "Length: 120187 (117K) [binary/octet-stream]\n",
            "Saving to: ‘40efea85-f221-4233-b218-87ae35423650.xls’\n",
            "\n",
            "40efea85-f221-4233- 100%[===================>] 117.37K   338KB/s    in 0.3s    \n",
            "\n",
            "2021-03-28 17:02:37 (338 KB/s) - ‘40efea85-f221-4233-b218-87ae35423650.xls’ saved [120187/120187]\n",
            "\n"
          ],
          "name": "stdout"
        }
      ]
    },
    {
      "cell_type": "markdown",
      "metadata": {
        "id": "DbcvCJ03ycVf"
      },
      "source": [
        "Будем ориентироваться по столбцам reg_dttm, birth_dt"
      ]
    },
    {
      "cell_type": "code",
      "metadata": {
        "colab": {
          "base_uri": "https://localhost:8080/"
        },
        "id": "m0FTLPkqGExc",
        "outputId": "235a0fdb-3a1a-4055-ccb5-eefeef2a7210"
      },
      "source": [
        "import pandas as pd\n",
        "import numpy as np\n",
        "import matplotlib.pyplot as plt\n",
        "\n",
        "df = pd.read_excel('/content/40efea85-f221-4233-b218-87ae35423650.xls')\n",
        "print(df.columns.values)"
      ],
      "execution_count": 26,
      "outputs": [
        {
          "output_type": "stream",
          "text": [
            "['client_id' 'birth_dt' 'reg_dttm' 'purchase_id' 'purchase_dt'\n",
            " 'purchase_amt']\n"
          ],
          "name": "stdout"
        }
      ]
    },
    {
      "cell_type": "code",
      "metadata": {
        "colab": {
          "base_uri": "https://localhost:8080/",
          "height": 399
        },
        "id": "ahdN9B0BzCq_",
        "outputId": "04d165f0-aad1-47ae-d014-7af35470c10f"
      },
      "source": [
        "df"
      ],
      "execution_count": 27,
      "outputs": [
        {
          "output_type": "execute_result",
          "data": {
            "text/html": [
              "<div>\n",
              "<style scoped>\n",
              "    .dataframe tbody tr th:only-of-type {\n",
              "        vertical-align: middle;\n",
              "    }\n",
              "\n",
              "    .dataframe tbody tr th {\n",
              "        vertical-align: top;\n",
              "    }\n",
              "\n",
              "    .dataframe thead th {\n",
              "        text-align: right;\n",
              "    }\n",
              "</style>\n",
              "<table border=\"1\" class=\"dataframe\">\n",
              "  <thead>\n",
              "    <tr style=\"text-align: right;\">\n",
              "      <th></th>\n",
              "      <th>client_id</th>\n",
              "      <th>birth_dt</th>\n",
              "      <th>reg_dttm</th>\n",
              "      <th>purchase_id</th>\n",
              "      <th>purchase_dt</th>\n",
              "      <th>purchase_amt</th>\n",
              "    </tr>\n",
              "  </thead>\n",
              "  <tbody>\n",
              "    <tr>\n",
              "      <th>0</th>\n",
              "      <td>820519</td>\n",
              "      <td>1990-05-10</td>\n",
              "      <td>2019-01-02 12:49:39</td>\n",
              "      <td>NaN</td>\n",
              "      <td>NaT</td>\n",
              "      <td>NaN</td>\n",
              "    </tr>\n",
              "    <tr>\n",
              "      <th>1</th>\n",
              "      <td>820521</td>\n",
              "      <td>1970-03-23</td>\n",
              "      <td>2019-01-02 14:14:39</td>\n",
              "      <td>NaN</td>\n",
              "      <td>NaT</td>\n",
              "      <td>NaN</td>\n",
              "    </tr>\n",
              "    <tr>\n",
              "      <th>2</th>\n",
              "      <td>820523</td>\n",
              "      <td>1991-04-01</td>\n",
              "      <td>2019-01-02 19:51:19</td>\n",
              "      <td>1.204926e+09</td>\n",
              "      <td>2019-02-12</td>\n",
              "      <td>500.0</td>\n",
              "    </tr>\n",
              "    <tr>\n",
              "      <th>3</th>\n",
              "      <td>820526</td>\n",
              "      <td>1985-04-27</td>\n",
              "      <td>2019-01-02 18:09:39</td>\n",
              "      <td>NaN</td>\n",
              "      <td>NaT</td>\n",
              "      <td>NaN</td>\n",
              "    </tr>\n",
              "    <tr>\n",
              "      <th>4</th>\n",
              "      <td>820544</td>\n",
              "      <td>1991-05-03</td>\n",
              "      <td>2019-01-03 12:24:42</td>\n",
              "      <td>NaN</td>\n",
              "      <td>NaT</td>\n",
              "      <td>NaN</td>\n",
              "    </tr>\n",
              "    <tr>\n",
              "      <th>...</th>\n",
              "      <td>...</td>\n",
              "      <td>...</td>\n",
              "      <td>...</td>\n",
              "      <td>...</td>\n",
              "      <td>...</td>\n",
              "      <td>...</td>\n",
              "    </tr>\n",
              "    <tr>\n",
              "      <th>2372</th>\n",
              "      <td>835630</td>\n",
              "      <td>1991-01-05</td>\n",
              "      <td>2019-04-05 11:00:17</td>\n",
              "      <td>NaN</td>\n",
              "      <td>NaT</td>\n",
              "      <td>NaN</td>\n",
              "    </tr>\n",
              "    <tr>\n",
              "      <th>2373</th>\n",
              "      <td>835634</td>\n",
              "      <td>1991-09-06</td>\n",
              "      <td>2019-04-05 12:19:05</td>\n",
              "      <td>1.299279e+09</td>\n",
              "      <td>2019-04-07</td>\n",
              "      <td>4000.0</td>\n",
              "    </tr>\n",
              "    <tr>\n",
              "      <th>2374</th>\n",
              "      <td>835650</td>\n",
              "      <td>1993-09-02</td>\n",
              "      <td>2019-04-05 12:26:39</td>\n",
              "      <td>1.299387e+09</td>\n",
              "      <td>2019-04-08</td>\n",
              "      <td>1500.0</td>\n",
              "    </tr>\n",
              "    <tr>\n",
              "      <th>2375</th>\n",
              "      <td>835666</td>\n",
              "      <td>1998-05-15</td>\n",
              "      <td>2019-04-05 13:16:37</td>\n",
              "      <td>NaN</td>\n",
              "      <td>NaT</td>\n",
              "      <td>NaN</td>\n",
              "    </tr>\n",
              "    <tr>\n",
              "      <th>2376</th>\n",
              "      <td>835717</td>\n",
              "      <td>1986-08-14</td>\n",
              "      <td>2019-04-05 13:13:41</td>\n",
              "      <td>NaN</td>\n",
              "      <td>NaT</td>\n",
              "      <td>NaN</td>\n",
              "    </tr>\n",
              "  </tbody>\n",
              "</table>\n",
              "<p>2377 rows × 6 columns</p>\n",
              "</div>"
            ],
            "text/plain": [
              "      client_id   birth_dt  ... purchase_dt  purchase_amt\n",
              "0        820519 1990-05-10  ...         NaT           NaN\n",
              "1        820521 1970-03-23  ...         NaT           NaN\n",
              "2        820523 1991-04-01  ...  2019-02-12         500.0\n",
              "3        820526 1985-04-27  ...         NaT           NaN\n",
              "4        820544 1991-05-03  ...         NaT           NaN\n",
              "...         ...        ...  ...         ...           ...\n",
              "2372     835630 1991-01-05  ...         NaT           NaN\n",
              "2373     835634 1991-09-06  ...  2019-04-07        4000.0\n",
              "2374     835650 1993-09-02  ...  2019-04-08        1500.0\n",
              "2375     835666 1998-05-15  ...         NaT           NaN\n",
              "2376     835717 1986-08-14  ...         NaT           NaN\n",
              "\n",
              "[2377 rows x 6 columns]"
            ]
          },
          "metadata": {
            "tags": []
          },
          "execution_count": 27
        }
      ]
    },
    {
      "cell_type": "code",
      "metadata": {
        "colab": {
          "base_uri": "https://localhost:8080/",
          "height": 399
        },
        "id": "SNAx-aRAGcZX",
        "outputId": "31a5f4d8-ffa6-4453-c34f-eb3f8b97ee17"
      },
      "source": [
        "#data transformation\n",
        "df['birth_dt'] = df['birth_dt'].dt.strftime('%Y')\n",
        "df['reg_dttm'] = df['reg_dttm'].dt.strftime('%Y-%m')\n",
        "\n",
        "#add new column\n",
        "df['age'] = 2019 - df['birth_dt'].astype(int)\n",
        "df"
      ],
      "execution_count": 28,
      "outputs": [
        {
          "output_type": "execute_result",
          "data": {
            "text/html": [
              "<div>\n",
              "<style scoped>\n",
              "    .dataframe tbody tr th:only-of-type {\n",
              "        vertical-align: middle;\n",
              "    }\n",
              "\n",
              "    .dataframe tbody tr th {\n",
              "        vertical-align: top;\n",
              "    }\n",
              "\n",
              "    .dataframe thead th {\n",
              "        text-align: right;\n",
              "    }\n",
              "</style>\n",
              "<table border=\"1\" class=\"dataframe\">\n",
              "  <thead>\n",
              "    <tr style=\"text-align: right;\">\n",
              "      <th></th>\n",
              "      <th>client_id</th>\n",
              "      <th>birth_dt</th>\n",
              "      <th>reg_dttm</th>\n",
              "      <th>purchase_id</th>\n",
              "      <th>purchase_dt</th>\n",
              "      <th>purchase_amt</th>\n",
              "      <th>age</th>\n",
              "    </tr>\n",
              "  </thead>\n",
              "  <tbody>\n",
              "    <tr>\n",
              "      <th>0</th>\n",
              "      <td>820519</td>\n",
              "      <td>1990</td>\n",
              "      <td>2019-01</td>\n",
              "      <td>NaN</td>\n",
              "      <td>NaT</td>\n",
              "      <td>NaN</td>\n",
              "      <td>29</td>\n",
              "    </tr>\n",
              "    <tr>\n",
              "      <th>1</th>\n",
              "      <td>820521</td>\n",
              "      <td>1970</td>\n",
              "      <td>2019-01</td>\n",
              "      <td>NaN</td>\n",
              "      <td>NaT</td>\n",
              "      <td>NaN</td>\n",
              "      <td>49</td>\n",
              "    </tr>\n",
              "    <tr>\n",
              "      <th>2</th>\n",
              "      <td>820523</td>\n",
              "      <td>1991</td>\n",
              "      <td>2019-01</td>\n",
              "      <td>1.204926e+09</td>\n",
              "      <td>2019-02-12</td>\n",
              "      <td>500.0</td>\n",
              "      <td>28</td>\n",
              "    </tr>\n",
              "    <tr>\n",
              "      <th>3</th>\n",
              "      <td>820526</td>\n",
              "      <td>1985</td>\n",
              "      <td>2019-01</td>\n",
              "      <td>NaN</td>\n",
              "      <td>NaT</td>\n",
              "      <td>NaN</td>\n",
              "      <td>34</td>\n",
              "    </tr>\n",
              "    <tr>\n",
              "      <th>4</th>\n",
              "      <td>820544</td>\n",
              "      <td>1991</td>\n",
              "      <td>2019-01</td>\n",
              "      <td>NaN</td>\n",
              "      <td>NaT</td>\n",
              "      <td>NaN</td>\n",
              "      <td>28</td>\n",
              "    </tr>\n",
              "    <tr>\n",
              "      <th>...</th>\n",
              "      <td>...</td>\n",
              "      <td>...</td>\n",
              "      <td>...</td>\n",
              "      <td>...</td>\n",
              "      <td>...</td>\n",
              "      <td>...</td>\n",
              "      <td>...</td>\n",
              "    </tr>\n",
              "    <tr>\n",
              "      <th>2372</th>\n",
              "      <td>835630</td>\n",
              "      <td>1991</td>\n",
              "      <td>2019-04</td>\n",
              "      <td>NaN</td>\n",
              "      <td>NaT</td>\n",
              "      <td>NaN</td>\n",
              "      <td>28</td>\n",
              "    </tr>\n",
              "    <tr>\n",
              "      <th>2373</th>\n",
              "      <td>835634</td>\n",
              "      <td>1991</td>\n",
              "      <td>2019-04</td>\n",
              "      <td>1.299279e+09</td>\n",
              "      <td>2019-04-07</td>\n",
              "      <td>4000.0</td>\n",
              "      <td>28</td>\n",
              "    </tr>\n",
              "    <tr>\n",
              "      <th>2374</th>\n",
              "      <td>835650</td>\n",
              "      <td>1993</td>\n",
              "      <td>2019-04</td>\n",
              "      <td>1.299387e+09</td>\n",
              "      <td>2019-04-08</td>\n",
              "      <td>1500.0</td>\n",
              "      <td>26</td>\n",
              "    </tr>\n",
              "    <tr>\n",
              "      <th>2375</th>\n",
              "      <td>835666</td>\n",
              "      <td>1998</td>\n",
              "      <td>2019-04</td>\n",
              "      <td>NaN</td>\n",
              "      <td>NaT</td>\n",
              "      <td>NaN</td>\n",
              "      <td>21</td>\n",
              "    </tr>\n",
              "    <tr>\n",
              "      <th>2376</th>\n",
              "      <td>835717</td>\n",
              "      <td>1986</td>\n",
              "      <td>2019-04</td>\n",
              "      <td>NaN</td>\n",
              "      <td>NaT</td>\n",
              "      <td>NaN</td>\n",
              "      <td>33</td>\n",
              "    </tr>\n",
              "  </tbody>\n",
              "</table>\n",
              "<p>2377 rows × 7 columns</p>\n",
              "</div>"
            ],
            "text/plain": [
              "      client_id birth_dt reg_dttm   purchase_id purchase_dt  purchase_amt  age\n",
              "0        820519     1990  2019-01           NaN         NaT           NaN   29\n",
              "1        820521     1970  2019-01           NaN         NaT           NaN   49\n",
              "2        820523     1991  2019-01  1.204926e+09  2019-02-12         500.0   28\n",
              "3        820526     1985  2019-01           NaN         NaT           NaN   34\n",
              "4        820544     1991  2019-01           NaN         NaT           NaN   28\n",
              "...         ...      ...      ...           ...         ...           ...  ...\n",
              "2372     835630     1991  2019-04           NaN         NaT           NaN   28\n",
              "2373     835634     1991  2019-04  1.299279e+09  2019-04-07        4000.0   28\n",
              "2374     835650     1993  2019-04  1.299387e+09  2019-04-08        1500.0   26\n",
              "2375     835666     1998  2019-04           NaN         NaT           NaN   21\n",
              "2376     835717     1986  2019-04           NaN         NaT           NaN   33\n",
              "\n",
              "[2377 rows x 7 columns]"
            ]
          },
          "metadata": {
            "tags": []
          },
          "execution_count": 28
        }
      ]
    },
    {
      "cell_type": "code",
      "metadata": {
        "colab": {
          "base_uri": "https://localhost:8080/"
        },
        "id": "_I0sHrhQHjXR",
        "outputId": "fbf39651-ae4d-4225-8de2-f3fda233b627"
      },
      "source": [
        "#define the limits\n",
        "print('min: ', df['reg_dttm'].min())\n",
        "print('max: ', df['reg_dttm'].max())\n",
        "print('---------------------------')\n",
        "print('min: ', df['age'].min())\n",
        "print('max: ', df['age'].max())"
      ],
      "execution_count": 32,
      "outputs": [
        {
          "output_type": "stream",
          "text": [
            "min:  2019-01\n",
            "max:  2019-04\n",
            "---------------------------\n",
            "min:  18\n",
            "max:  73\n"
          ],
          "name": "stdout"
        }
      ]
    },
    {
      "cell_type": "markdown",
      "metadata": {
        "id": "yd3Hvp9rcgbx"
      },
      "source": [
        "Заметим, что по факту у нас 3 временных периода: январь-февраль, февраль-март, март-апрель"
      ]
    },
    {
      "cell_type": "code",
      "metadata": {
        "colab": {
          "base_uri": "https://localhost:8080/",
          "height": 223
        },
        "id": "pJ1ef8zP4Aym",
        "outputId": "0d4d96b0-24dc-419e-bf37-772aba5f893c"
      },
      "source": [
        "january_data = df[df.reg_dttm == '2019-01']\n",
        "february_data = df[df.reg_dttm <= '2019-02']\n",
        "march_data = df[df.reg_dttm <= '2019-03']\n",
        "\n",
        "january_data_updated = january_data.groupby(['client_id','age'], as_index=False)[['reg_dttm']].count()\n",
        "january_final = january_data_updated.groupby(['age'], as_index=False)[['client_id']].count()\n",
        "january_final.rename(columns={'client_id': 'count'}, inplace=True)\n",
        "\n",
        "february_data_updated = february_data.groupby(['client_id','age'], as_index=False)[['reg_dttm']].count()\n",
        "february_final = february_data_updated.groupby(['age'], as_index=False)[['client_id']].count()\n",
        "february_final.rename(columns={'client_id': 'count'}, inplace=True)\n",
        "\n",
        "march_data_updated = march_data.groupby(['client_id','age'], as_index=False)[['reg_dttm']].count()\n",
        "march_final = march_data_updated.groupby(['age'], as_index=False)[['client_id']].count()\n",
        "march_final.rename(columns={'client_id': 'count'}, inplace=True)\n",
        "\n",
        "age_data = ['18-25', '26-35', '36-45', '46-55', '56-65', '66+']\n",
        "count_data_012 = []\n",
        "count_data_023 = []\n",
        "count_data_034 = []\n",
        "\n",
        "def add_func(result, mydf):\n",
        "  result.append(mydf[(mydf.age >= 18)&(mydf.age <= 25)]['count'].sum())\n",
        "  result.append(mydf[(mydf.age >= 26)&(mydf.age <= 35)]['count'].sum())\n",
        "  result.append(mydf[(mydf.age >= 36)&(mydf.age <= 45)]['count'].sum())\n",
        "  result.append(mydf[(mydf.age >= 46)&(mydf.age <= 55)]['count'].sum())\n",
        "  result.append(mydf[(mydf.age >= 56)&(mydf.age <= 65)]['count'].sum())\n",
        "  result.append(mydf[(mydf.age > 65)]['count'].sum())\n",
        "  return result\n",
        "\n",
        "count_data_012 = add_func(count_data_012, january_final)\n",
        "info = pd.DataFrame({'Age': age_data, 'clients num. January': count_data_012})\n",
        "count_data_023 = add_func(count_data_023, february_final)\n",
        "info['clients num. February'] = count_data_023\n",
        "\n",
        "count_data_034 = add_func(count_data_034, march_final)\n",
        "info['clients num. March'] = count_data_034\n",
        "info"
      ],
      "execution_count": 60,
      "outputs": [
        {
          "output_type": "execute_result",
          "data": {
            "text/html": [
              "<div>\n",
              "<style scoped>\n",
              "    .dataframe tbody tr th:only-of-type {\n",
              "        vertical-align: middle;\n",
              "    }\n",
              "\n",
              "    .dataframe tbody tr th {\n",
              "        vertical-align: top;\n",
              "    }\n",
              "\n",
              "    .dataframe thead th {\n",
              "        text-align: right;\n",
              "    }\n",
              "</style>\n",
              "<table border=\"1\" class=\"dataframe\">\n",
              "  <thead>\n",
              "    <tr style=\"text-align: right;\">\n",
              "      <th></th>\n",
              "      <th>Age</th>\n",
              "      <th>clients num. January</th>\n",
              "    </tr>\n",
              "  </thead>\n",
              "  <tbody>\n",
              "    <tr>\n",
              "      <th>0</th>\n",
              "      <td>18-25</td>\n",
              "      <td>234</td>\n",
              "    </tr>\n",
              "    <tr>\n",
              "      <th>1</th>\n",
              "      <td>26-35</td>\n",
              "      <td>198</td>\n",
              "    </tr>\n",
              "    <tr>\n",
              "      <th>2</th>\n",
              "      <td>36-45</td>\n",
              "      <td>101</td>\n",
              "    </tr>\n",
              "    <tr>\n",
              "      <th>3</th>\n",
              "      <td>46-55</td>\n",
              "      <td>45</td>\n",
              "    </tr>\n",
              "    <tr>\n",
              "      <th>4</th>\n",
              "      <td>56-65</td>\n",
              "      <td>21</td>\n",
              "    </tr>\n",
              "    <tr>\n",
              "      <th>5</th>\n",
              "      <td>66+</td>\n",
              "      <td>2</td>\n",
              "    </tr>\n",
              "  </tbody>\n",
              "</table>\n",
              "</div>"
            ],
            "text/plain": [
              "     Age  clients num. January\n",
              "0  18-25                   234\n",
              "1  26-35                   198\n",
              "2  36-45                   101\n",
              "3  46-55                    45\n",
              "4  56-65                    21\n",
              "5    66+                     2"
            ]
          },
          "metadata": {
            "tags": []
          },
          "execution_count": 60
        }
      ]
    },
    {
      "cell_type": "code",
      "metadata": {
        "colab": {
          "base_uri": "https://localhost:8080/",
          "height": 537
        },
        "id": "citG-5cPge7x",
        "outputId": "4d09b242-760b-4364-e98a-883c2c881bfd"
      },
      "source": [
        "plt.figure(figsize = (25,10))\n",
        "plt.xlabel('Age range')\n",
        "plt.ylabel('Count of clients')\n",
        "\n",
        "plt.bar(info['Age'] , info['clients num. March'], color = 'coral', label = 'March', width=0.4, align='center')\n",
        "plt.bar(info['Age'] , info['clients num. February'], color = 'lightgreen', label = 'February', width=0.4, align='center')\n",
        "plt.bar(info['Age'] , info['clients num. January'], color = 'skyblue', label = 'January', width=0.4, align='center')\n",
        "plt.savefig('task1.png', dpi = 100)\n",
        "plt.show()"
      ],
      "execution_count": 82,
      "outputs": [
        {
          "output_type": "display_data",
          "data": {
            "image/png": "[encoded data removed]",
            "text/plain": [
              "<Figure size 1800x720 with 1 Axes>"
            ]
          },
          "metadata": {
            "tags": [],
            "needs_background": "light"
          }
        }
      ]
    },
    {
      "cell_type": "code",
      "metadata": {
        "colab": {
          "base_uri": "https://localhost:8080/",
          "height": 35
        },
        "id": "JRdIOb25jFp0",
        "outputId": "e67eae38-25f6-4641-ac1a-851f5d53af2b"
      },
      "source": [
        ""
      ],
      "execution_count": 76,
      "outputs": [
        {
          "output_type": "display_data",
          "data": {
            "text/plain": [
              "<Figure size 432x288 with 0 Axes>"
            ]
          },
          "metadata": {
            "tags": []
          }
        }
      ]
    },
    {
      "cell_type": "code",
      "metadata": {
        "id": "1tV4nsxajUla"
      },
      "source": [
        ""
      ],
      "execution_count": null,
      "outputs": []
    }
  ]
}