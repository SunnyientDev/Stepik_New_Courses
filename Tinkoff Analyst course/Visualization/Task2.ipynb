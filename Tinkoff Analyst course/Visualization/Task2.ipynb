{
  "nbformat": 4,
  "nbformat_minor": 0,
  "metadata": {
    "colab": {
      "name": "Task2.ipynb",
      "provenance": [],
      "toc_visible": true
    },
    "kernelspec": {
      "name": "python3",
      "display_name": "Python 3"
    },
    "language_info": {
      "name": "python"
    }
  },
  "cells": [
    {
      "cell_type": "markdown",
      "metadata": {
        "id": "-RHJJcY6qwPC"
      },
      "source": [
        "# Визуализация данных\n",
        "\n",
        "Поговорим о проекте Тинькофф Квест.\n",
        "Рассматриваем следующий процесс: заявители регистрируются на сайте Тинькофф Квест, где указывают свой возраст. Всех зарегистрированных называем клиентами.\n",
        "\n",
        "В дальнейшем кто-то из них совершает с созданного аккаунта покупки сертификатов на квест. Будем называть это утилизацией. Число дней от регистрации на сайте до первой покупки будем называть скоростью утилизации.\n",
        "\n",
        "В приложенном файле таблица со следующими полями:\n",
        "\n",
        "* client_id -- id клиента, зарегистрированного на сайте\n",
        "* birth_dt -- дата его рождения\n",
        "* reg_dttm -- дата и время регистрации на сайте данного клиента\n",
        "* purchase_id -- id покупки\n",
        "* purchase_dt -- дата покупки\n",
        "* purchase_amt -- сумма покупки\n",
        "\n",
        "Если данные по покупке пустые -- клиент не совершил утилизации."
      ]
    },
    {
      "cell_type": "markdown",
      "metadata": {
        "id": "taEpLwxzqwMw"
      },
      "source": [
        "## Задание 2\n",
        "\n",
        "Постройте диаграмму (или график), которая показывает, как по возрастным сегментам отличается конверсия в утилизацию.\n",
        "В ответ пришлите изображение диаграммы (или графика) и код (SQL/Python), с помощью которого вы его получили"
      ]
    },
    {
      "cell_type": "code",
      "metadata": {
        "colab": {
          "base_uri": "https://localhost:8080/"
        },
        "id": "1tZcklGQqtL3",
        "outputId": "b312ea0f-7803-4123-9bde-7b30030ae656"
      },
      "source": [
        "!wget https://edu.tinkoff.ru/media/edu-files-ext-100/40efea85-f221-4233-b218-87ae35423650.xls"
      ],
      "execution_count": 53,
      "outputs": [
        {
          "output_type": "stream",
          "text": [
            "--2021-03-29 07:11:04--  https://edu.tinkoff.ru/media/edu-files-ext-100/40efea85-f221-4233-b218-87ae35423650.xls\n",
            "Resolving edu.tinkoff.ru (edu.tinkoff.ru)... 178.248.239.60\n",
            "Connecting to edu.tinkoff.ru (edu.tinkoff.ru)|178.248.239.60|:443... connected.\n",
            "HTTP request sent, awaiting response... 200 OK\n",
            "Length: 120187 (117K) [binary/octet-stream]\n",
            "Saving to: ‘40efea85-f221-4233-b218-87ae35423650.xls.2’\n",
            "\n",
            "40efea85-f221-4233- 100%[===================>] 117.37K   295KB/s    in 0.4s    \n",
            "\n",
            "2021-03-29 07:11:05 (295 KB/s) - ‘40efea85-f221-4233-b218-87ae35423650.xls.2’ saved [120187/120187]\n",
            "\n"
          ],
          "name": "stdout"
        }
      ]
    },
    {
      "cell_type": "code",
      "metadata": {
        "colab": {
          "base_uri": "https://localhost:8080/"
        },
        "id": "KY1s4tXmq5Kj",
        "outputId": "7ca42430-ba40-40c8-d8b2-ee6e0ac86db4"
      },
      "source": [
        "import pandas as pd\n",
        "import numpy as np\n",
        "import matplotlib.pyplot as plt\n",
        "\n",
        "df = pd.read_excel('/content/40efea85-f221-4233-b218-87ae35423650.xls')\n",
        "print(df.columns.values)"
      ],
      "execution_count": 54,
      "outputs": [
        {
          "output_type": "stream",
          "text": [
            "['client_id' 'birth_dt' 'reg_dttm' 'purchase_id' 'purchase_dt'\n",
            " 'purchase_amt']\n"
          ],
          "name": "stdout"
        }
      ]
    },
    {
      "cell_type": "code",
      "metadata": {
        "colab": {
          "base_uri": "https://localhost:8080/",
          "height": 399
        },
        "id": "Vg8EkfWHrAYb",
        "outputId": "69b2ec1c-f9de-43c0-c2d3-cf23bfe0c346"
      },
      "source": [
        "df"
      ],
      "execution_count": 55,
      "outputs": [
        {
          "output_type": "execute_result",
          "data": {
            "text/html": [
              "<div>\n",
              "<style scoped>\n",
              "    .dataframe tbody tr th:only-of-type {\n",
              "        vertical-align: middle;\n",
              "    }\n",
              "\n",
              "    .dataframe tbody tr th {\n",
              "        vertical-align: top;\n",
              "    }\n",
              "\n",
              "    .dataframe thead th {\n",
              "        text-align: right;\n",
              "    }\n",
              "</style>\n",
              "<table border=\"1\" class=\"dataframe\">\n",
              "  <thead>\n",
              "    <tr style=\"text-align: right;\">\n",
              "      <th></th>\n",
              "      <th>client_id</th>\n",
              "      <th>birth_dt</th>\n",
              "      <th>reg_dttm</th>\n",
              "      <th>purchase_id</th>\n",
              "      <th>purchase_dt</th>\n",
              "      <th>purchase_amt</th>\n",
              "    </tr>\n",
              "  </thead>\n",
              "  <tbody>\n",
              "    <tr>\n",
              "      <th>0</th>\n",
              "      <td>820519</td>\n",
              "      <td>1990-05-10</td>\n",
              "      <td>2019-01-02 12:49:39</td>\n",
              "      <td>NaN</td>\n",
              "      <td>NaT</td>\n",
              "      <td>NaN</td>\n",
              "    </tr>\n",
              "    <tr>\n",
              "      <th>1</th>\n",
              "      <td>820521</td>\n",
              "      <td>1970-03-23</td>\n",
              "      <td>2019-01-02 14:14:39</td>\n",
              "      <td>NaN</td>\n",
              "      <td>NaT</td>\n",
              "      <td>NaN</td>\n",
              "    </tr>\n",
              "    <tr>\n",
              "      <th>2</th>\n",
              "      <td>820523</td>\n",
              "      <td>1991-04-01</td>\n",
              "      <td>2019-01-02 19:51:19</td>\n",
              "      <td>1.204926e+09</td>\n",
              "      <td>2019-02-12</td>\n",
              "      <td>500.0</td>\n",
              "    </tr>\n",
              "    <tr>\n",
              "      <th>3</th>\n",
              "      <td>820526</td>\n",
              "      <td>1985-04-27</td>\n",
              "      <td>2019-01-02 18:09:39</td>\n",
              "      <td>NaN</td>\n",
              "      <td>NaT</td>\n",
              "      <td>NaN</td>\n",
              "    </tr>\n",
              "    <tr>\n",
              "      <th>4</th>\n",
              "      <td>820544</td>\n",
              "      <td>1991-05-03</td>\n",
              "      <td>2019-01-03 12:24:42</td>\n",
              "      <td>NaN</td>\n",
              "      <td>NaT</td>\n",
              "      <td>NaN</td>\n",
              "    </tr>\n",
              "    <tr>\n",
              "      <th>...</th>\n",
              "      <td>...</td>\n",
              "      <td>...</td>\n",
              "      <td>...</td>\n",
              "      <td>...</td>\n",
              "      <td>...</td>\n",
              "      <td>...</td>\n",
              "    </tr>\n",
              "    <tr>\n",
              "      <th>2372</th>\n",
              "      <td>835630</td>\n",
              "      <td>1991-01-05</td>\n",
              "      <td>2019-04-05 11:00:17</td>\n",
              "      <td>NaN</td>\n",
              "      <td>NaT</td>\n",
              "      <td>NaN</td>\n",
              "    </tr>\n",
              "    <tr>\n",
              "      <th>2373</th>\n",
              "      <td>835634</td>\n",
              "      <td>1991-09-06</td>\n",
              "      <td>2019-04-05 12:19:05</td>\n",
              "      <td>1.299279e+09</td>\n",
              "      <td>2019-04-07</td>\n",
              "      <td>4000.0</td>\n",
              "    </tr>\n",
              "    <tr>\n",
              "      <th>2374</th>\n",
              "      <td>835650</td>\n",
              "      <td>1993-09-02</td>\n",
              "      <td>2019-04-05 12:26:39</td>\n",
              "      <td>1.299387e+09</td>\n",
              "      <td>2019-04-08</td>\n",
              "      <td>1500.0</td>\n",
              "    </tr>\n",
              "    <tr>\n",
              "      <th>2375</th>\n",
              "      <td>835666</td>\n",
              "      <td>1998-05-15</td>\n",
              "      <td>2019-04-05 13:16:37</td>\n",
              "      <td>NaN</td>\n",
              "      <td>NaT</td>\n",
              "      <td>NaN</td>\n",
              "    </tr>\n",
              "    <tr>\n",
              "      <th>2376</th>\n",
              "      <td>835717</td>\n",
              "      <td>1986-08-14</td>\n",
              "      <td>2019-04-05 13:13:41</td>\n",
              "      <td>NaN</td>\n",
              "      <td>NaT</td>\n",
              "      <td>NaN</td>\n",
              "    </tr>\n",
              "  </tbody>\n",
              "</table>\n",
              "<p>2377 rows × 6 columns</p>\n",
              "</div>"
            ],
            "text/plain": [
              "      client_id   birth_dt  ... purchase_dt  purchase_amt\n",
              "0        820519 1990-05-10  ...         NaT           NaN\n",
              "1        820521 1970-03-23  ...         NaT           NaN\n",
              "2        820523 1991-04-01  ...  2019-02-12         500.0\n",
              "3        820526 1985-04-27  ...         NaT           NaN\n",
              "4        820544 1991-05-03  ...         NaT           NaN\n",
              "...         ...        ...  ...         ...           ...\n",
              "2372     835630 1991-01-05  ...         NaT           NaN\n",
              "2373     835634 1991-09-06  ...  2019-04-07        4000.0\n",
              "2374     835650 1993-09-02  ...  2019-04-08        1500.0\n",
              "2375     835666 1998-05-15  ...         NaT           NaN\n",
              "2376     835717 1986-08-14  ...         NaT           NaN\n",
              "\n",
              "[2377 rows x 6 columns]"
            ]
          },
          "metadata": {
            "tags": []
          },
          "execution_count": 55
        }
      ]
    },
    {
      "cell_type": "code",
      "metadata": {
        "colab": {
          "base_uri": "https://localhost:8080/",
          "height": 399
        },
        "id": "xIklMvu_rBRi",
        "outputId": "0b565dcc-0838-47cd-9037-926d44f43046"
      },
      "source": [
        "#data transformation\n",
        "df['birth_dt'] = df['birth_dt'].dt.strftime('%Y')\n",
        "df['reg_dttm'] = df['reg_dttm'].dt.strftime('%Y-%m')\n",
        "\n",
        "#add new columns\n",
        "df['age'] = 2019 - df['birth_dt'].astype(int)\n",
        "df['util'] = ((pd.isnull(df.purchase_id)) == False).astype(int) # we choose int type to simplify the summation\n",
        "df"
      ],
      "execution_count": 56,
      "outputs": [
        {
          "output_type": "execute_result",
          "data": {
            "text/html": [
              "<div>\n",
              "<style scoped>\n",
              "    .dataframe tbody tr th:only-of-type {\n",
              "        vertical-align: middle;\n",
              "    }\n",
              "\n",
              "    .dataframe tbody tr th {\n",
              "        vertical-align: top;\n",
              "    }\n",
              "\n",
              "    .dataframe thead th {\n",
              "        text-align: right;\n",
              "    }\n",
              "</style>\n",
              "<table border=\"1\" class=\"dataframe\">\n",
              "  <thead>\n",
              "    <tr style=\"text-align: right;\">\n",
              "      <th></th>\n",
              "      <th>client_id</th>\n",
              "      <th>birth_dt</th>\n",
              "      <th>reg_dttm</th>\n",
              "      <th>purchase_id</th>\n",
              "      <th>purchase_dt</th>\n",
              "      <th>purchase_amt</th>\n",
              "      <th>age</th>\n",
              "      <th>util</th>\n",
              "    </tr>\n",
              "  </thead>\n",
              "  <tbody>\n",
              "    <tr>\n",
              "      <th>0</th>\n",
              "      <td>820519</td>\n",
              "      <td>1990</td>\n",
              "      <td>2019-01</td>\n",
              "      <td>NaN</td>\n",
              "      <td>NaT</td>\n",
              "      <td>NaN</td>\n",
              "      <td>29</td>\n",
              "      <td>0</td>\n",
              "    </tr>\n",
              "    <tr>\n",
              "      <th>1</th>\n",
              "      <td>820521</td>\n",
              "      <td>1970</td>\n",
              "      <td>2019-01</td>\n",
              "      <td>NaN</td>\n",
              "      <td>NaT</td>\n",
              "      <td>NaN</td>\n",
              "      <td>49</td>\n",
              "      <td>0</td>\n",
              "    </tr>\n",
              "    <tr>\n",
              "      <th>2</th>\n",
              "      <td>820523</td>\n",
              "      <td>1991</td>\n",
              "      <td>2019-01</td>\n",
              "      <td>1.204926e+09</td>\n",
              "      <td>2019-02-12</td>\n",
              "      <td>500.0</td>\n",
              "      <td>28</td>\n",
              "      <td>1</td>\n",
              "    </tr>\n",
              "    <tr>\n",
              "      <th>3</th>\n",
              "      <td>820526</td>\n",
              "      <td>1985</td>\n",
              "      <td>2019-01</td>\n",
              "      <td>NaN</td>\n",
              "      <td>NaT</td>\n",
              "      <td>NaN</td>\n",
              "      <td>34</td>\n",
              "      <td>0</td>\n",
              "    </tr>\n",
              "    <tr>\n",
              "      <th>4</th>\n",
              "      <td>820544</td>\n",
              "      <td>1991</td>\n",
              "      <td>2019-01</td>\n",
              "      <td>NaN</td>\n",
              "      <td>NaT</td>\n",
              "      <td>NaN</td>\n",
              "      <td>28</td>\n",
              "      <td>0</td>\n",
              "    </tr>\n",
              "    <tr>\n",
              "      <th>...</th>\n",
              "      <td>...</td>\n",
              "      <td>...</td>\n",
              "      <td>...</td>\n",
              "      <td>...</td>\n",
              "      <td>...</td>\n",
              "      <td>...</td>\n",
              "      <td>...</td>\n",
              "      <td>...</td>\n",
              "    </tr>\n",
              "    <tr>\n",
              "      <th>2372</th>\n",
              "      <td>835630</td>\n",
              "      <td>1991</td>\n",
              "      <td>2019-04</td>\n",
              "      <td>NaN</td>\n",
              "      <td>NaT</td>\n",
              "      <td>NaN</td>\n",
              "      <td>28</td>\n",
              "      <td>0</td>\n",
              "    </tr>\n",
              "    <tr>\n",
              "      <th>2373</th>\n",
              "      <td>835634</td>\n",
              "      <td>1991</td>\n",
              "      <td>2019-04</td>\n",
              "      <td>1.299279e+09</td>\n",
              "      <td>2019-04-07</td>\n",
              "      <td>4000.0</td>\n",
              "      <td>28</td>\n",
              "      <td>1</td>\n",
              "    </tr>\n",
              "    <tr>\n",
              "      <th>2374</th>\n",
              "      <td>835650</td>\n",
              "      <td>1993</td>\n",
              "      <td>2019-04</td>\n",
              "      <td>1.299387e+09</td>\n",
              "      <td>2019-04-08</td>\n",
              "      <td>1500.0</td>\n",
              "      <td>26</td>\n",
              "      <td>1</td>\n",
              "    </tr>\n",
              "    <tr>\n",
              "      <th>2375</th>\n",
              "      <td>835666</td>\n",
              "      <td>1998</td>\n",
              "      <td>2019-04</td>\n",
              "      <td>NaN</td>\n",
              "      <td>NaT</td>\n",
              "      <td>NaN</td>\n",
              "      <td>21</td>\n",
              "      <td>0</td>\n",
              "    </tr>\n",
              "    <tr>\n",
              "      <th>2376</th>\n",
              "      <td>835717</td>\n",
              "      <td>1986</td>\n",
              "      <td>2019-04</td>\n",
              "      <td>NaN</td>\n",
              "      <td>NaT</td>\n",
              "      <td>NaN</td>\n",
              "      <td>33</td>\n",
              "      <td>0</td>\n",
              "    </tr>\n",
              "  </tbody>\n",
              "</table>\n",
              "<p>2377 rows × 8 columns</p>\n",
              "</div>"
            ],
            "text/plain": [
              "      client_id birth_dt reg_dttm  ...  purchase_amt age  util\n",
              "0        820519     1990  2019-01  ...           NaN  29     0\n",
              "1        820521     1970  2019-01  ...           NaN  49     0\n",
              "2        820523     1991  2019-01  ...         500.0  28     1\n",
              "3        820526     1985  2019-01  ...           NaN  34     0\n",
              "4        820544     1991  2019-01  ...           NaN  28     0\n",
              "...         ...      ...      ...  ...           ...  ..   ...\n",
              "2372     835630     1991  2019-04  ...           NaN  28     0\n",
              "2373     835634     1991  2019-04  ...        4000.0  28     1\n",
              "2374     835650     1993  2019-04  ...        1500.0  26     1\n",
              "2375     835666     1998  2019-04  ...           NaN  21     0\n",
              "2376     835717     1986  2019-04  ...           NaN  33     0\n",
              "\n",
              "[2377 rows x 8 columns]"
            ]
          },
          "metadata": {
            "tags": []
          },
          "execution_count": 56
        }
      ]
    },
    {
      "cell_type": "markdown",
      "metadata": {
        "id": "SD-aCWjKrwau"
      },
      "source": [
        "Оставим только нужные для построения данные"
      ]
    },
    {
      "cell_type": "code",
      "metadata": {
        "colab": {
          "base_uri": "https://localhost:8080/",
          "height": 399
        },
        "id": "lqoeId4PrSTS",
        "outputId": "71e39cca-3d20-49ac-9985-674f1bb98cfa"
      },
      "source": [
        "df_upt = df.groupby(['client_id','age', 'util'], as_index=False)[['reg_dttm']].count()\n",
        "data = df_upt.groupby(['age', 'util'], as_index=False)[['client_id']].count()\n",
        "\n",
        "data.rename(columns={'client_id': 'count'}, inplace=True)\n",
        "data"
      ],
      "execution_count": 57,
      "outputs": [
        {
          "output_type": "execute_result",
          "data": {
            "text/html": [
              "<div>\n",
              "<style scoped>\n",
              "    .dataframe tbody tr th:only-of-type {\n",
              "        vertical-align: middle;\n",
              "    }\n",
              "\n",
              "    .dataframe tbody tr th {\n",
              "        vertical-align: top;\n",
              "    }\n",
              "\n",
              "    .dataframe thead th {\n",
              "        text-align: right;\n",
              "    }\n",
              "</style>\n",
              "<table border=\"1\" class=\"dataframe\">\n",
              "  <thead>\n",
              "    <tr style=\"text-align: right;\">\n",
              "      <th></th>\n",
              "      <th>age</th>\n",
              "      <th>util</th>\n",
              "      <th>count</th>\n",
              "    </tr>\n",
              "  </thead>\n",
              "  <tbody>\n",
              "    <tr>\n",
              "      <th>0</th>\n",
              "      <td>18</td>\n",
              "      <td>0</td>\n",
              "      <td>14</td>\n",
              "    </tr>\n",
              "    <tr>\n",
              "      <th>1</th>\n",
              "      <td>18</td>\n",
              "      <td>1</td>\n",
              "      <td>14</td>\n",
              "    </tr>\n",
              "    <tr>\n",
              "      <th>2</th>\n",
              "      <td>19</td>\n",
              "      <td>0</td>\n",
              "      <td>82</td>\n",
              "    </tr>\n",
              "    <tr>\n",
              "      <th>3</th>\n",
              "      <td>19</td>\n",
              "      <td>1</td>\n",
              "      <td>107</td>\n",
              "    </tr>\n",
              "    <tr>\n",
              "      <th>4</th>\n",
              "      <td>20</td>\n",
              "      <td>0</td>\n",
              "      <td>73</td>\n",
              "    </tr>\n",
              "    <tr>\n",
              "      <th>...</th>\n",
              "      <td>...</td>\n",
              "      <td>...</td>\n",
              "      <td>...</td>\n",
              "    </tr>\n",
              "    <tr>\n",
              "      <th>91</th>\n",
              "      <td>66</td>\n",
              "      <td>0</td>\n",
              "      <td>1</td>\n",
              "    </tr>\n",
              "    <tr>\n",
              "      <th>92</th>\n",
              "      <td>66</td>\n",
              "      <td>1</td>\n",
              "      <td>1</td>\n",
              "    </tr>\n",
              "    <tr>\n",
              "      <th>93</th>\n",
              "      <td>67</td>\n",
              "      <td>1</td>\n",
              "      <td>1</td>\n",
              "    </tr>\n",
              "    <tr>\n",
              "      <th>94</th>\n",
              "      <td>68</td>\n",
              "      <td>1</td>\n",
              "      <td>1</td>\n",
              "    </tr>\n",
              "    <tr>\n",
              "      <th>95</th>\n",
              "      <td>73</td>\n",
              "      <td>0</td>\n",
              "      <td>1</td>\n",
              "    </tr>\n",
              "  </tbody>\n",
              "</table>\n",
              "<p>96 rows × 3 columns</p>\n",
              "</div>"
            ],
            "text/plain": [
              "    age  util  count\n",
              "0    18     0     14\n",
              "1    18     1     14\n",
              "2    19     0     82\n",
              "3    19     1    107\n",
              "4    20     0     73\n",
              "..  ...   ...    ...\n",
              "91   66     0      1\n",
              "92   66     1      1\n",
              "93   67     1      1\n",
              "94   68     1      1\n",
              "95   73     0      1\n",
              "\n",
              "[96 rows x 3 columns]"
            ]
          },
          "metadata": {
            "tags": []
          },
          "execution_count": 57
        }
      ]
    },
    {
      "cell_type": "code",
      "metadata": {
        "colab": {
          "base_uri": "https://localhost:8080/",
          "height": 194
        },
        "id": "9i1bg9K9r_bu",
        "outputId": "53f6fd98-3ad6-432e-9092-2e84325bc3c3"
      },
      "source": [
        "age_data = ['18-25', '26-35', '36-45', '46-54', '55+'] #change the range for correct summation\n",
        "count = []\n",
        "\n",
        "def add_func(result, mydf, column):\n",
        "  temp = mydf[(column >= 18)&(column <= 25)&(mydf.util == 1)]['count'].sum()\n",
        "  temp /= mydf[(column >= 18)&(column <= 25)]['count'].sum()\n",
        "  result.append(round(temp*100))\n",
        "  \n",
        "  temp = mydf[(column >= 26)&(column <= 35)&(mydf.util == 1)]['count'].sum()\n",
        "  temp /= mydf[(column >= 26)&(column <= 35)]['count'].sum()\n",
        "  result.append(round(temp*100))\n",
        "\n",
        "  temp = mydf[(column >= 36)&(column <= 45)&(mydf.util == 1)]['count'].sum()\n",
        "  temp /= mydf[(column >= 36)&(column <= 45)]['count'].sum()\n",
        "  result.append(round(temp*100))\n",
        "\n",
        "  temp = mydf[(column >= 46)&(column < 55)&(mydf.util == 1)]['count'].sum()\n",
        "  temp /= mydf[(column >= 46)&(column < 55)]['count'].sum()\n",
        "  result.append(round(temp*100))\n",
        "\n",
        "  temp = mydf[(column >= 55)&(mydf.util == 1)]['count'].sum()\n",
        "  temp /= mydf[column >= 55]['count'].sum()\n",
        "  result.append(round(temp*100))\n",
        "  return result\n",
        "\n",
        "count = add_func(count, data, data.age)\n",
        "data = pd.DataFrame({'Age': age_data, 'Util percentage': count})\n",
        "data"
      ],
      "execution_count": 58,
      "outputs": [
        {
          "output_type": "execute_result",
          "data": {
            "text/html": [
              "<div>\n",
              "<style scoped>\n",
              "    .dataframe tbody tr th:only-of-type {\n",
              "        vertical-align: middle;\n",
              "    }\n",
              "\n",
              "    .dataframe tbody tr th {\n",
              "        vertical-align: top;\n",
              "    }\n",
              "\n",
              "    .dataframe thead th {\n",
              "        text-align: right;\n",
              "    }\n",
              "</style>\n",
              "<table border=\"1\" class=\"dataframe\">\n",
              "  <thead>\n",
              "    <tr style=\"text-align: right;\">\n",
              "      <th></th>\n",
              "      <th>Age</th>\n",
              "      <th>Util percentage</th>\n",
              "    </tr>\n",
              "  </thead>\n",
              "  <tbody>\n",
              "    <tr>\n",
              "      <th>0</th>\n",
              "      <td>18-25</td>\n",
              "      <td>48</td>\n",
              "    </tr>\n",
              "    <tr>\n",
              "      <th>1</th>\n",
              "      <td>26-35</td>\n",
              "      <td>44</td>\n",
              "    </tr>\n",
              "    <tr>\n",
              "      <th>2</th>\n",
              "      <td>36-45</td>\n",
              "      <td>41</td>\n",
              "    </tr>\n",
              "    <tr>\n",
              "      <th>3</th>\n",
              "      <td>46-54</td>\n",
              "      <td>53</td>\n",
              "    </tr>\n",
              "    <tr>\n",
              "      <th>4</th>\n",
              "      <td>55+</td>\n",
              "      <td>41</td>\n",
              "    </tr>\n",
              "  </tbody>\n",
              "</table>\n",
              "</div>"
            ],
            "text/plain": [
              "     Age  Util percentage\n",
              "0  18-25               48\n",
              "1  26-35               44\n",
              "2  36-45               41\n",
              "3  46-54               53\n",
              "4    55+               41"
            ]
          },
          "metadata": {
            "tags": []
          },
          "execution_count": 58
        }
      ]
    },
    {
      "cell_type": "code",
      "metadata": {
        "colab": {
          "base_uri": "https://localhost:8080/",
          "height": 541
        },
        "id": "JuegmlsKu0sK",
        "outputId": "d7d1a4bf-e668-4fa3-86e3-c85a8eb7baa4"
      },
      "source": [
        "plt.figure(figsize = (25,10))\n",
        "\n",
        "plt.bar(data['Age'] , data['Util percentage'], color = 'lightgreen', width=0.5, align='center')\n",
        "\n",
        "plt.ylim(data['Util percentage'].min() - 2, data['Util percentage'].max() + 2)\n",
        "plt.xlabel('Age range')\n",
        "plt.ylabel('Util percentage')\n",
        "\n",
        "plt.savefig('task2.png', dpi = 100)\n",
        "plt.show()"
      ],
      "execution_count": 60,
      "outputs": [
        {
          "output_type": "display_data",
          "data": {
            "image/png": "[encoded data removed]",
            "text/plain": [
              "<Figure size 1800x720 with 1 Axes>"
            ]
          },
          "metadata": {
            "tags": [],
            "needs_background": "light"
          }
        }
      ]
    },
    {
      "cell_type": "code",
      "metadata": {
        "id": "Cgokc-Kp0PY1"
      },
      "source": [
        ""
      ],
      "execution_count": null,
      "outputs": []
    }
  ]
}